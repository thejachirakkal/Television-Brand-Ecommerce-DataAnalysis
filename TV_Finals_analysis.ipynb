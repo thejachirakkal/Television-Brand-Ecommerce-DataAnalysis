{
 "cells": [
  {
   "cell_type": "code",
   "execution_count": 1,
   "id": "ff6167e4",
   "metadata": {},
   "outputs": [],
   "source": [
    "import pandas as pd\n",
    "import numpy as np\n",
    "import matplotlib.pyplot as plt\n",
    "import seaborn as sns"
   ]
  },
  {
   "cell_type": "code",
   "execution_count": 2,
   "id": "3a7d2b04",
   "metadata": {},
   "outputs": [
    {
     "name": "stdout",
     "output_type": "stream",
     "text": [
      " Volume in drive C is OS\n",
      " Volume Serial Number is 68D7-27A6\n",
      "\n",
      " Directory of C:\\hello world\\new work 03-01-24\\TV_Finals\n",
      "\n",
      "01/04/2024  03:35 PM    <DIR>          .\n",
      "01/04/2024  10:49 AM    <DIR>          ..\n",
      "01/04/2024  10:50 AM    <DIR>          .ipynb_checkpoints\n",
      "01/04/2024  10:49 AM           553,035 Day_2.pdf\n",
      "01/04/2024  10:49 AM            41,048 TV_Final.xls\n",
      "01/04/2024  03:35 PM           269,634 TV_Finals_analysis.ipynb\n",
      "               3 File(s)        863,717 bytes\n",
      "               3 Dir(s)  158,400,294,912 bytes free\n"
     ]
    }
   ],
   "source": [
    "!dir"
   ]
  },
  {
   "cell_type": "code",
   "execution_count": 3,
   "id": "07499007",
   "metadata": {},
   "outputs": [
    {
     "data": {
      "text/html": [
       "<div>\n",
       "<style scoped>\n",
       "    .dataframe tbody tr th:only-of-type {\n",
       "        vertical-align: middle;\n",
       "    }\n",
       "\n",
       "    .dataframe tbody tr th {\n",
       "        vertical-align: top;\n",
       "    }\n",
       "\n",
       "    .dataframe thead th {\n",
       "        text-align: right;\n",
       "    }\n",
       "</style>\n",
       "<table border=\"1\" class=\"dataframe\">\n",
       "  <thead>\n",
       "    <tr style=\"text-align: right;\">\n",
       "      <th></th>\n",
       "      <th>Brand</th>\n",
       "      <th>Resolution</th>\n",
       "      <th>Size</th>\n",
       "      <th>Selling Price</th>\n",
       "      <th>Original Price</th>\n",
       "      <th>Operating System</th>\n",
       "      <th>Rating</th>\n",
       "    </tr>\n",
       "  </thead>\n",
       "  <tbody>\n",
       "    <tr>\n",
       "      <th>0</th>\n",
       "      <td>TOSHIBA</td>\n",
       "      <td>Ultra HD LED</td>\n",
       "      <td>55</td>\n",
       "      <td>37999</td>\n",
       "      <td>54990</td>\n",
       "      <td>VIDAA</td>\n",
       "      <td>4.3</td>\n",
       "    </tr>\n",
       "    <tr>\n",
       "      <th>1</th>\n",
       "      <td>TCL</td>\n",
       "      <td>QLED Ultra HD</td>\n",
       "      <td>55</td>\n",
       "      <td>52999</td>\n",
       "      <td>129990</td>\n",
       "      <td>Android</td>\n",
       "      <td>4.4</td>\n",
       "    </tr>\n",
       "    <tr>\n",
       "      <th>2</th>\n",
       "      <td>realme</td>\n",
       "      <td>HD LED</td>\n",
       "      <td>32</td>\n",
       "      <td>13999</td>\n",
       "      <td>17999</td>\n",
       "      <td>Android</td>\n",
       "      <td>4.3</td>\n",
       "    </tr>\n",
       "    <tr>\n",
       "      <th>3</th>\n",
       "      <td>Mi</td>\n",
       "      <td>HD LED</td>\n",
       "      <td>32</td>\n",
       "      <td>14999</td>\n",
       "      <td>19999</td>\n",
       "      <td>Android</td>\n",
       "      <td>4.4</td>\n",
       "    </tr>\n",
       "    <tr>\n",
       "      <th>4</th>\n",
       "      <td>realme</td>\n",
       "      <td>HD LED</td>\n",
       "      <td>32</td>\n",
       "      <td>12999</td>\n",
       "      <td>21999</td>\n",
       "      <td>Android</td>\n",
       "      <td>4.3</td>\n",
       "    </tr>\n",
       "    <tr>\n",
       "      <th>...</th>\n",
       "      <td>...</td>\n",
       "      <td>...</td>\n",
       "      <td>...</td>\n",
       "      <td>...</td>\n",
       "      <td>...</td>\n",
       "      <td>...</td>\n",
       "      <td>...</td>\n",
       "    </tr>\n",
       "    <tr>\n",
       "      <th>907</th>\n",
       "      <td>SONY</td>\n",
       "      <td>Full HD LED</td>\n",
       "      <td>43</td>\n",
       "      <td>44999</td>\n",
       "      <td>57900</td>\n",
       "      <td>Linux</td>\n",
       "      <td>4.4</td>\n",
       "    </tr>\n",
       "    <tr>\n",
       "      <th>908</th>\n",
       "      <td>SONY</td>\n",
       "      <td>Full HD LED</td>\n",
       "      <td>40</td>\n",
       "      <td>41499</td>\n",
       "      <td>51900</td>\n",
       "      <td>Linux</td>\n",
       "      <td>4.6</td>\n",
       "    </tr>\n",
       "    <tr>\n",
       "      <th>909</th>\n",
       "      <td>SONY</td>\n",
       "      <td>Ultra HD LED</td>\n",
       "      <td>65</td>\n",
       "      <td>149990</td>\n",
       "      <td>184990</td>\n",
       "      <td>Linux</td>\n",
       "      <td>4.3</td>\n",
       "    </tr>\n",
       "    <tr>\n",
       "      <th>910</th>\n",
       "      <td>SONY</td>\n",
       "      <td>HD LED</td>\n",
       "      <td>32</td>\n",
       "      <td>32900</td>\n",
       "      <td>32900</td>\n",
       "      <td>Linux</td>\n",
       "      <td>4.4</td>\n",
       "    </tr>\n",
       "    <tr>\n",
       "      <th>911</th>\n",
       "      <td>SONY</td>\n",
       "      <td>Full HD LED</td>\n",
       "      <td>43</td>\n",
       "      <td>56900</td>\n",
       "      <td>56900</td>\n",
       "      <td>Linux</td>\n",
       "      <td>4.6</td>\n",
       "    </tr>\n",
       "  </tbody>\n",
       "</table>\n",
       "<p>912 rows × 7 columns</p>\n",
       "</div>"
      ],
      "text/plain": [
       "       Brand     Resolution  Size   Selling Price  Original Price  \\\n",
       "0    TOSHIBA   Ultra HD LED     55          37999           54990   \n",
       "1       TCL   QLED Ultra HD     55          52999          129990   \n",
       "2    realme          HD LED     32          13999           17999   \n",
       "3        Mi          HD LED     32          14999           19999   \n",
       "4    realme          HD LED     32          12999           21999   \n",
       "..       ...            ...    ...            ...             ...   \n",
       "907    SONY     Full HD LED     43          44999           57900   \n",
       "908    SONY     Full HD LED     40          41499           51900   \n",
       "909    SONY    Ultra HD LED     65         149990          184990   \n",
       "910    SONY          HD LED     32          32900           32900   \n",
       "911    SONY     Full HD LED     43          56900           56900   \n",
       "\n",
       "    Operating System  Rating  \n",
       "0              VIDAA     4.3  \n",
       "1            Android     4.4  \n",
       "2            Android     4.3  \n",
       "3            Android     4.4  \n",
       "4            Android     4.3  \n",
       "..               ...     ...  \n",
       "907            Linux     4.4  \n",
       "908            Linux     4.6  \n",
       "909            Linux     4.3  \n",
       "910            Linux     4.4  \n",
       "911            Linux     4.6  \n",
       "\n",
       "[912 rows x 7 columns]"
      ]
     },
     "execution_count": 3,
     "metadata": {},
     "output_type": "execute_result"
    }
   ],
   "source": [
    "TV=pd.read_csv('TV_Final.xls')\n",
    "TV"
   ]
  },
  {
   "cell_type": "code",
   "execution_count": 4,
   "id": "69c82e37",
   "metadata": {},
   "outputs": [
    {
     "data": {
      "text/plain": [
       "Index(['Brand', 'Resolution', 'Size ', 'Selling Price', 'Original Price',\n",
       "       'Operating System', 'Rating'],\n",
       "      dtype='object')"
      ]
     },
     "execution_count": 4,
     "metadata": {},
     "output_type": "execute_result"
    }
   ],
   "source": [
    "TV.columns"
   ]
  },
  {
   "cell_type": "code",
   "execution_count": 5,
   "id": "1966bd51",
   "metadata": {},
   "outputs": [
    {
     "data": {
      "text/plain": [
       "(912, 7)"
      ]
     },
     "execution_count": 5,
     "metadata": {},
     "output_type": "execute_result"
    }
   ],
   "source": [
    "TV.shape"
   ]
  },
  {
   "cell_type": "code",
   "execution_count": 6,
   "id": "4f7e9ba1",
   "metadata": {},
   "outputs": [
    {
     "data": {
      "text/plain": [
       "6384"
      ]
     },
     "execution_count": 6,
     "metadata": {},
     "output_type": "execute_result"
    }
   ],
   "source": [
    "TV.size"
   ]
  },
  {
   "cell_type": "code",
   "execution_count": 7,
   "id": "a36231a1",
   "metadata": {},
   "outputs": [],
   "source": [
    "TV=TV.drop_duplicates()"
   ]
  },
  {
   "cell_type": "code",
   "execution_count": 8,
   "id": "e2612e8c",
   "metadata": {},
   "outputs": [
    {
     "name": "stderr",
     "output_type": "stream",
     "text": [
      "C:\\Users\\theja\\AppData\\Local\\Temp\\ipykernel_19356\\1457545819.py:1: SettingWithCopyWarning: \n",
      "A value is trying to be set on a copy of a slice from a DataFrame.\n",
      "Try using .loc[row_indexer,col_indexer] = value instead\n",
      "\n",
      "See the caveats in the documentation: https://pandas.pydata.org/pandas-docs/stable/user_guide/indexing.html#returning-a-view-versus-a-copy\n",
      "  TV[\"Rating\"]=TV[\"Rating\"].fillna(0)\n"
     ]
    }
   ],
   "source": [
    "TV[\"Rating\"]=TV[\"Rating\"].fillna(0)"
   ]
  },
  {
   "cell_type": "code",
   "execution_count": 9,
   "id": "4b04f22c",
   "metadata": {},
   "outputs": [
    {
     "data": {
      "text/plain": [
       "(882, 7)"
      ]
     },
     "execution_count": 9,
     "metadata": {},
     "output_type": "execute_result"
    }
   ],
   "source": [
    "TV.shape"
   ]
  },
  {
   "cell_type": "code",
   "execution_count": 10,
   "id": "d69c6de0",
   "metadata": {},
   "outputs": [],
   "source": [
    "TV=TV.dropna().reset_index()"
   ]
  },
  {
   "cell_type": "markdown",
   "id": "eed32dcb",
   "metadata": {},
   "source": [
    "### Data Exploration:"
   ]
  },
  {
   "cell_type": "code",
   "execution_count": 11,
   "id": "924924d0",
   "metadata": {},
   "outputs": [
    {
     "data": {
      "text/plain": [
       "index                 int64\n",
       "Brand                object\n",
       "Resolution           object\n",
       "Size                  int64\n",
       "Selling Price         int64\n",
       "Original Price        int64\n",
       "Operating System     object\n",
       "Rating              float64\n",
       "dtype: object"
      ]
     },
     "execution_count": 11,
     "metadata": {},
     "output_type": "execute_result"
    }
   ],
   "source": [
    "TV.dtypes"
   ]
  },
  {
   "cell_type": "code",
   "execution_count": 12,
   "id": "17e026bf",
   "metadata": {},
   "outputs": [
    {
     "data": {
      "text/plain": [
       "index               0\n",
       "Brand               0\n",
       "Resolution          0\n",
       "Size                0\n",
       "Selling Price       0\n",
       "Original Price      0\n",
       "Operating System    0\n",
       "Rating              0\n",
       "dtype: int64"
      ]
     },
     "execution_count": 12,
     "metadata": {},
     "output_type": "execute_result"
    }
   ],
   "source": [
    "TV.isnull().sum()"
   ]
  },
  {
   "cell_type": "code",
   "execution_count": 13,
   "id": "5c4e28c3",
   "metadata": {},
   "outputs": [
    {
     "data": {
      "text/html": [
       "<div>\n",
       "<style scoped>\n",
       "    .dataframe tbody tr th:only-of-type {\n",
       "        vertical-align: middle;\n",
       "    }\n",
       "\n",
       "    .dataframe tbody tr th {\n",
       "        vertical-align: top;\n",
       "    }\n",
       "\n",
       "    .dataframe thead th {\n",
       "        text-align: right;\n",
       "    }\n",
       "</style>\n",
       "<table border=\"1\" class=\"dataframe\">\n",
       "  <thead>\n",
       "    <tr style=\"text-align: right;\">\n",
       "      <th></th>\n",
       "      <th>count</th>\n",
       "      <th>mean</th>\n",
       "      <th>std</th>\n",
       "      <th>min</th>\n",
       "      <th>25%</th>\n",
       "      <th>50%</th>\n",
       "      <th>75%</th>\n",
       "      <th>max</th>\n",
       "    </tr>\n",
       "  </thead>\n",
       "  <tbody>\n",
       "    <tr>\n",
       "      <th>index</th>\n",
       "      <td>871.0</td>\n",
       "      <td>446.688863</td>\n",
       "      <td>263.098060</td>\n",
       "      <td>0.0</td>\n",
       "      <td>219.50</td>\n",
       "      <td>442.0</td>\n",
       "      <td>672.5</td>\n",
       "      <td>911.0</td>\n",
       "    </tr>\n",
       "    <tr>\n",
       "      <th>Size</th>\n",
       "      <td>871.0</td>\n",
       "      <td>46.303100</td>\n",
       "      <td>12.205425</td>\n",
       "      <td>17.0</td>\n",
       "      <td>39.00</td>\n",
       "      <td>46.0</td>\n",
       "      <td>55.0</td>\n",
       "      <td>85.0</td>\n",
       "    </tr>\n",
       "    <tr>\n",
       "      <th>Selling Price</th>\n",
       "      <td>871.0</td>\n",
       "      <td>60347.825488</td>\n",
       "      <td>66473.367208</td>\n",
       "      <td>4849.0</td>\n",
       "      <td>20757.00</td>\n",
       "      <td>36999.0</td>\n",
       "      <td>67990.0</td>\n",
       "      <td>499990.0</td>\n",
       "    </tr>\n",
       "    <tr>\n",
       "      <th>Original Price</th>\n",
       "      <td>871.0</td>\n",
       "      <td>83513.623421</td>\n",
       "      <td>85840.729164</td>\n",
       "      <td>6999.0</td>\n",
       "      <td>29900.00</td>\n",
       "      <td>53900.0</td>\n",
       "      <td>99990.0</td>\n",
       "      <td>549990.0</td>\n",
       "    </tr>\n",
       "    <tr>\n",
       "      <th>Rating</th>\n",
       "      <td>871.0</td>\n",
       "      <td>3.239610</td>\n",
       "      <td>1.831858</td>\n",
       "      <td>0.0</td>\n",
       "      <td>3.15</td>\n",
       "      <td>4.2</td>\n",
       "      <td>4.4</td>\n",
       "      <td>5.0</td>\n",
       "    </tr>\n",
       "  </tbody>\n",
       "</table>\n",
       "</div>"
      ],
      "text/plain": [
       "                count          mean           std     min       25%      50%  \\\n",
       "index           871.0    446.688863    263.098060     0.0    219.50    442.0   \n",
       "Size            871.0     46.303100     12.205425    17.0     39.00     46.0   \n",
       "Selling Price   871.0  60347.825488  66473.367208  4849.0  20757.00  36999.0   \n",
       "Original Price  871.0  83513.623421  85840.729164  6999.0  29900.00  53900.0   \n",
       "Rating          871.0      3.239610      1.831858     0.0      3.15      4.2   \n",
       "\n",
       "                    75%       max  \n",
       "index             672.5     911.0  \n",
       "Size               55.0      85.0  \n",
       "Selling Price   67990.0  499990.0  \n",
       "Original Price  99990.0  549990.0  \n",
       "Rating              4.4       5.0  "
      ]
     },
     "execution_count": 13,
     "metadata": {},
     "output_type": "execute_result"
    }
   ],
   "source": [
    "TV.describe().T"
   ]
  },
  {
   "cell_type": "markdown",
   "id": "1645833b",
   "metadata": {},
   "source": [
    "#we can see the mean and median of size is same\n",
    "\n",
    "#selling price mean and median are very much different\n",
    "\n",
    "#original price mean and median are very much different"
   ]
  },
  {
   "cell_type": "code",
   "execution_count": 14,
   "id": "9712bc83",
   "metadata": {},
   "outputs": [
    {
     "data": {
      "text/plain": [
       "<Axes: >"
      ]
     },
     "execution_count": 14,
     "metadata": {},
     "output_type": "execute_result"
    },
    {
     "data": {
      "image/png": "[encoded data removed]",
      "text/plain": [
       "<Figure size 640x480 with 1 Axes>"
      ]
     },
     "metadata": {},
     "output_type": "display_data"
    }
   ],
   "source": [
    "sns.boxplot(TV['Selling Price'])\n",
    "#from the above graph we can see outliers"
   ]
  },
  {
   "cell_type": "code",
   "execution_count": 15,
   "id": "1951d42c",
   "metadata": {},
   "outputs": [
    {
     "data": {
      "text/plain": [
       "<Axes: >"
      ]
     },
     "execution_count": 15,
     "metadata": {},
     "output_type": "execute_result"
    },
    {
     "data": {
      "image/png": "[encoded data removed]",
      "text/plain": [
       "<Figure size 640x480 with 1 Axes>"
      ]
     },
     "metadata": {},
     "output_type": "display_data"
    }
   ],
   "source": [
    "sns.boxplot(TV['Original Price'])\n",
    "#from the above graph we can see outliers"
   ]
  },
  {
   "cell_type": "code",
   "execution_count": 16,
   "id": "fd9e810b",
   "metadata": {},
   "outputs": [
    {
     "data": {
      "text/plain": [
       "<Axes: >"
      ]
     },
     "execution_count": 16,
     "metadata": {},
     "output_type": "execute_result"
    },
    {
     "data": {
      "image/png": "[encoded data removed]",
      "text/plain": [
       "<Figure size 640x480 with 1 Axes>"
      ]
     },
     "metadata": {},
     "output_type": "display_data"
    }
   ],
   "source": [
    "sns.boxplot(TV['Rating'])\n"
   ]
  },
  {
   "cell_type": "code",
   "execution_count": 17,
   "id": "45aa05d2",
   "metadata": {},
   "outputs": [
    {
     "data": {
      "text/html": [
       "<div>\n",
       "<style scoped>\n",
       "    .dataframe tbody tr th:only-of-type {\n",
       "        vertical-align: middle;\n",
       "    }\n",
       "\n",
       "    .dataframe tbody tr th {\n",
       "        vertical-align: top;\n",
       "    }\n",
       "\n",
       "    .dataframe thead th {\n",
       "        text-align: right;\n",
       "    }\n",
       "</style>\n",
       "<table border=\"1\" class=\"dataframe\">\n",
       "  <thead>\n",
       "    <tr style=\"text-align: right;\">\n",
       "      <th></th>\n",
       "      <th>index</th>\n",
       "      <th>Brand</th>\n",
       "      <th>Resolution</th>\n",
       "      <th>Size</th>\n",
       "      <th>Selling Price</th>\n",
       "      <th>Original Price</th>\n",
       "      <th>Operating System</th>\n",
       "      <th>Rating</th>\n",
       "    </tr>\n",
       "  </thead>\n",
       "  <tbody>\n",
       "    <tr>\n",
       "      <th>121</th>\n",
       "      <td>122</td>\n",
       "      <td>T-Series</td>\n",
       "      <td>HD LED</td>\n",
       "      <td>24</td>\n",
       "      <td>9990</td>\n",
       "      <td>12990</td>\n",
       "      <td>Android</td>\n",
       "      <td>0.0</td>\n",
       "    </tr>\n",
       "    <tr>\n",
       "      <th>151</th>\n",
       "      <td>152</td>\n",
       "      <td>SAMSUNG</td>\n",
       "      <td>Ultra HD LED</td>\n",
       "      <td>43</td>\n",
       "      <td>41900</td>\n",
       "      <td>49990</td>\n",
       "      <td>Tizen</td>\n",
       "      <td>0.0</td>\n",
       "    </tr>\n",
       "    <tr>\n",
       "      <th>153</th>\n",
       "      <td>154</td>\n",
       "      <td>LG</td>\n",
       "      <td>Ultra HD LED</td>\n",
       "      <td>43</td>\n",
       "      <td>41349</td>\n",
       "      <td>57990</td>\n",
       "      <td>WebOS</td>\n",
       "      <td>0.0</td>\n",
       "    </tr>\n",
       "    <tr>\n",
       "      <th>167</th>\n",
       "      <td>168</td>\n",
       "      <td>Croma</td>\n",
       "      <td>HD LED</td>\n",
       "      <td>24</td>\n",
       "      <td>7990</td>\n",
       "      <td>15000</td>\n",
       "      <td>Android</td>\n",
       "      <td>0.0</td>\n",
       "    </tr>\n",
       "    <tr>\n",
       "      <th>168</th>\n",
       "      <td>169</td>\n",
       "      <td>LG</td>\n",
       "      <td>Ultra HD LED</td>\n",
       "      <td>55</td>\n",
       "      <td>137490</td>\n",
       "      <td>299990</td>\n",
       "      <td>WebOS</td>\n",
       "      <td>0.0</td>\n",
       "    </tr>\n",
       "    <tr>\n",
       "      <th>...</th>\n",
       "      <td>...</td>\n",
       "      <td>...</td>\n",
       "      <td>...</td>\n",
       "      <td>...</td>\n",
       "      <td>...</td>\n",
       "      <td>...</td>\n",
       "      <td>...</td>\n",
       "      <td>...</td>\n",
       "    </tr>\n",
       "    <tr>\n",
       "      <th>846</th>\n",
       "      <td>885</td>\n",
       "      <td>Sharp</td>\n",
       "      <td>Full HD LED</td>\n",
       "      <td>70</td>\n",
       "      <td>449900</td>\n",
       "      <td>449900</td>\n",
       "      <td>Linux</td>\n",
       "      <td>0.0</td>\n",
       "    </tr>\n",
       "    <tr>\n",
       "      <th>847</th>\n",
       "      <td>886</td>\n",
       "      <td>Sharp</td>\n",
       "      <td>Full HD LED</td>\n",
       "      <td>52</td>\n",
       "      <td>199990</td>\n",
       "      <td>199990</td>\n",
       "      <td>Linux</td>\n",
       "      <td>0.0</td>\n",
       "    </tr>\n",
       "    <tr>\n",
       "      <th>848</th>\n",
       "      <td>887</td>\n",
       "      <td>Sharp</td>\n",
       "      <td>Full HD LED</td>\n",
       "      <td>40</td>\n",
       "      <td>103990</td>\n",
       "      <td>103990</td>\n",
       "      <td>Linux</td>\n",
       "      <td>0.0</td>\n",
       "    </tr>\n",
       "    <tr>\n",
       "      <th>856</th>\n",
       "      <td>896</td>\n",
       "      <td>Sansui</td>\n",
       "      <td>Ultra HD LED</td>\n",
       "      <td>49</td>\n",
       "      <td>59990</td>\n",
       "      <td>59990</td>\n",
       "      <td>Linux</td>\n",
       "      <td>0.0</td>\n",
       "    </tr>\n",
       "    <tr>\n",
       "      <th>857</th>\n",
       "      <td>897</td>\n",
       "      <td>Sansui</td>\n",
       "      <td>HD LED</td>\n",
       "      <td>24</td>\n",
       "      <td>10500</td>\n",
       "      <td>14900</td>\n",
       "      <td>Android</td>\n",
       "      <td>0.0</td>\n",
       "    </tr>\n",
       "  </tbody>\n",
       "</table>\n",
       "<p>206 rows × 8 columns</p>\n",
       "</div>"
      ],
      "text/plain": [
       "     index     Brand    Resolution  Size   Selling Price  Original Price  \\\n",
       "121    122  T-Series        HD LED     24           9990           12990   \n",
       "151    152   SAMSUNG  Ultra HD LED     43          41900           49990   \n",
       "153    154       LG   Ultra HD LED     43          41349           57990   \n",
       "167    168    Croma         HD LED     24           7990           15000   \n",
       "168    169       LG   Ultra HD LED     55         137490          299990   \n",
       "..     ...       ...           ...    ...            ...             ...   \n",
       "846    885    Sharp    Full HD LED     70         449900          449900   \n",
       "847    886    Sharp    Full HD LED     52         199990          199990   \n",
       "848    887    Sharp    Full HD LED     40         103990          103990   \n",
       "856    896   Sansui   Ultra HD LED     49          59990           59990   \n",
       "857    897   Sansui         HD LED     24          10500           14900   \n",
       "\n",
       "    Operating System  Rating  \n",
       "121          Android     0.0  \n",
       "151            Tizen     0.0  \n",
       "153            WebOS     0.0  \n",
       "167          Android     0.0  \n",
       "168            WebOS     0.0  \n",
       "..               ...     ...  \n",
       "846            Linux     0.0  \n",
       "847            Linux     0.0  \n",
       "848            Linux     0.0  \n",
       "856            Linux     0.0  \n",
       "857          Android     0.0  \n",
       "\n",
       "[206 rows x 8 columns]"
      ]
     },
     "execution_count": 17,
     "metadata": {},
     "output_type": "execute_result"
    }
   ],
   "source": [
    "TV[TV['Rating']==0]"
   ]
  },
  {
   "cell_type": "code",
   "execution_count": 18,
   "id": "03dfdf7c",
   "metadata": {},
   "outputs": [
    {
     "name": "stderr",
     "output_type": "stream",
     "text": [
      "C:\\Users\\theja\\AppData\\Local\\Temp\\ipykernel_19356\\1997994405.py:1: FutureWarning: The default value of numeric_only in DataFrame.corr is deprecated. In a future version, it will default to False. Select only valid columns or specify the value of numeric_only to silence this warning.\n",
      "  TV.corr()\n"
     ]
    },
    {
     "data": {
      "text/html": [
       "<div>\n",
       "<style scoped>\n",
       "    .dataframe tbody tr th:only-of-type {\n",
       "        vertical-align: middle;\n",
       "    }\n",
       "\n",
       "    .dataframe tbody tr th {\n",
       "        vertical-align: top;\n",
       "    }\n",
       "\n",
       "    .dataframe thead th {\n",
       "        text-align: right;\n",
       "    }\n",
       "</style>\n",
       "<table border=\"1\" class=\"dataframe\">\n",
       "  <thead>\n",
       "    <tr style=\"text-align: right;\">\n",
       "      <th></th>\n",
       "      <th>index</th>\n",
       "      <th>Size</th>\n",
       "      <th>Selling Price</th>\n",
       "      <th>Original Price</th>\n",
       "      <th>Rating</th>\n",
       "    </tr>\n",
       "  </thead>\n",
       "  <tbody>\n",
       "    <tr>\n",
       "      <th>index</th>\n",
       "      <td>1.000000</td>\n",
       "      <td>-0.175329</td>\n",
       "      <td>-0.068086</td>\n",
       "      <td>-0.119705</td>\n",
       "      <td>-0.138598</td>\n",
       "    </tr>\n",
       "    <tr>\n",
       "      <th>Size</th>\n",
       "      <td>-0.175329</td>\n",
       "      <td>1.000000</td>\n",
       "      <td>0.658130</td>\n",
       "      <td>0.727980</td>\n",
       "      <td>-0.136483</td>\n",
       "    </tr>\n",
       "    <tr>\n",
       "      <th>Selling Price</th>\n",
       "      <td>-0.068086</td>\n",
       "      <td>0.658130</td>\n",
       "      <td>1.000000</td>\n",
       "      <td>0.939391</td>\n",
       "      <td>-0.242372</td>\n",
       "    </tr>\n",
       "    <tr>\n",
       "      <th>Original Price</th>\n",
       "      <td>-0.119705</td>\n",
       "      <td>0.727980</td>\n",
       "      <td>0.939391</td>\n",
       "      <td>1.000000</td>\n",
       "      <td>-0.222168</td>\n",
       "    </tr>\n",
       "    <tr>\n",
       "      <th>Rating</th>\n",
       "      <td>-0.138598</td>\n",
       "      <td>-0.136483</td>\n",
       "      <td>-0.242372</td>\n",
       "      <td>-0.222168</td>\n",
       "      <td>1.000000</td>\n",
       "    </tr>\n",
       "  </tbody>\n",
       "</table>\n",
       "</div>"
      ],
      "text/plain": [
       "                   index     Size   Selling Price  Original Price    Rating\n",
       "index           1.000000 -0.175329      -0.068086       -0.119705 -0.138598\n",
       "Size           -0.175329  1.000000       0.658130        0.727980 -0.136483\n",
       "Selling Price  -0.068086  0.658130       1.000000        0.939391 -0.242372\n",
       "Original Price -0.119705  0.727980       0.939391        1.000000 -0.222168\n",
       "Rating         -0.138598 -0.136483      -0.242372       -0.222168  1.000000"
      ]
     },
     "execution_count": 18,
     "metadata": {},
     "output_type": "execute_result"
    }
   ],
   "source": [
    "TV.corr()"
   ]
  },
  {
   "cell_type": "code",
   "execution_count": 19,
   "id": "ffce1a8d",
   "metadata": {},
   "outputs": [
    {
     "name": "stderr",
     "output_type": "stream",
     "text": [
      "C:\\Users\\theja\\AppData\\Local\\Temp\\ipykernel_19356\\440992214.py:1: FutureWarning: The default value of numeric_only in DataFrame.corr is deprecated. In a future version, it will default to False. Select only valid columns or specify the value of numeric_only to silence this warning.\n",
      "  sns.heatmap(TV.corr())\n"
     ]
    },
    {
     "data": {
      "text/plain": [
       "<Axes: >"
      ]
     },
     "execution_count": 19,
     "metadata": {},
     "output_type": "execute_result"
    },
    {
     "data": {
      "image/png": "[encoded data removed]",
      "text/plain": [
       "<Figure size 640x480 with 2 Axes>"
      ]
     },
     "metadata": {},
     "output_type": "display_data"
    }
   ],
   "source": [
    "sns.heatmap(TV.corr())"
   ]
  },
  {
   "cell_type": "code",
   "execution_count": 20,
   "id": "579d2e1a",
   "metadata": {},
   "outputs": [
    {
     "data": {
      "text/plain": [
       "index                        165\n",
       "Brand                        LG \n",
       "Resolution          Ultra HD LED\n",
       "Size                          65\n",
       "Selling Price             129999\n",
       "Original Price            229900\n",
       "Operating System           WebOS\n",
       "Rating                       5.0\n",
       "Name: 164, dtype: object"
      ]
     },
     "execution_count": 20,
     "metadata": {},
     "output_type": "execute_result"
    }
   ],
   "source": [
    "TV.iloc[TV['Rating'].idxmax()]"
   ]
  },
  {
   "cell_type": "code",
   "execution_count": 21,
   "id": "24871bfd",
   "metadata": {},
   "outputs": [
    {
     "data": {
      "text/plain": [
       "SAMSUNG             140\n",
       "LG                  116\n",
       "SONY                 61\n",
       "TCL                  41\n",
       "Panasonic            28\n",
       "Micromax             25\n",
       "Vu                   23\n",
       "Mi                   19\n",
       "Lloyd                19\n",
       "iFFALCON by TCL      19\n",
       "Thomson              18\n",
       "Haier                18\n",
       "Sansui               17\n",
       "PHILIPS              16\n",
       "Blaupunkt            15\n",
       "KODAK                15\n",
       "MOTOROLA             15\n",
       "IMPEX                13\n",
       "TOSHIBA              13\n",
       "Onida                12\n",
       "Nokia                11\n",
       "Power Guard          11\n",
       "Croma                11\n",
       "Hisense              10\n",
       "OnePlus               9\n",
       "T-Series              9\n",
       "Coocaa                9\n",
       "CloudWalker           9\n",
       "Acer                  8\n",
       "Sharp                 8\n",
       "Onix                  8\n",
       "G-TEN                 8\n",
       "RGL                   8\n",
       "AISEN                 8\n",
       "realme                7\n",
       "Adsun                 7\n",
       "Intex                 7\n",
       "JVC                   6\n",
       "Dyanora               6\n",
       "Samsung               6\n",
       "HUIDI                 6\n",
       "LumX                  6\n",
       "Weston                5\n",
       "Candes                5\n",
       "Compaq                5\n",
       "Dektron               4\n",
       "MarQ by Flipkart      4\n",
       "VG                    4\n",
       "Akai                  4\n",
       "BPL                   4\n",
       "DETEL                 3\n",
       "Oxygen                3\n",
       "KRISONS               3\n",
       "Infinix               3\n",
       "Sanyo                 2\n",
       "MURPHY                1\n",
       "Name: Brand, dtype: int64"
      ]
     },
     "execution_count": 21,
     "metadata": {},
     "output_type": "execute_result"
    }
   ],
   "source": [
    "TV['Brand'].value_counts()"
   ]
  },
  {
   "cell_type": "code",
   "execution_count": 22,
   "id": "7adad35e",
   "metadata": {},
   "outputs": [
    {
     "data": {
      "text/plain": [
       "(array([ 0,  1,  2,  3,  4,  5,  6,  7,  8,  9, 10, 11, 12, 13, 14, 15, 16,\n",
       "        17, 18, 19, 20, 21, 22, 23, 24, 25, 26, 27, 28, 29, 30, 31, 32, 33,\n",
       "        34, 35, 36, 37, 38, 39, 40, 41, 42, 43, 44, 45, 46, 47, 48, 49, 50,\n",
       "        51, 52, 53, 54, 55]),\n",
       " [Text(0, 0, 'TOSHIBA'),\n",
       "  Text(1, 0, 'TCL '),\n",
       "  Text(2, 0, 'realme '),\n",
       "  Text(3, 0, 'Mi '),\n",
       "  Text(4, 0, 'OnePlus'),\n",
       "  Text(5, 0, 'Hisense'),\n",
       "  Text(6, 0, 'LG '),\n",
       "  Text(7, 0, 'iFFALCON by TCL'),\n",
       "  Text(8, 0, 'Coocaa '),\n",
       "  Text(9, 0, 'SAMSUNG'),\n",
       "  Text(10, 0, 'Infinix'),\n",
       "  Text(11, 0, 'Vu'),\n",
       "  Text(12, 0, 'Nokia '),\n",
       "  Text(13, 0, 'Thomson'),\n",
       "  Text(14, 0, 'SONY '),\n",
       "  Text(15, 0, 'KODAK '),\n",
       "  Text(16, 0, 'MOTOROLA'),\n",
       "  Text(17, 0, 'PHILIPS'),\n",
       "  Text(18, 0, 'Acer'),\n",
       "  Text(19, 0, 'Blaupunkt'),\n",
       "  Text(20, 0, 'Adsun'),\n",
       "  Text(21, 0, 'T-Series'),\n",
       "  Text(22, 0, 'Panasonic'),\n",
       "  Text(23, 0, 'Micromax'),\n",
       "  Text(24, 0, 'Sansui '),\n",
       "  Text(25, 0, 'Croma '),\n",
       "  Text(26, 0, 'Candes '),\n",
       "  Text(27, 0, 'Dyanora'),\n",
       "  Text(28, 0, 'Haier '),\n",
       "  Text(29, 0, 'Onida'),\n",
       "  Text(30, 0, 'RGL '),\n",
       "  Text(31, 0, 'Lloyd '),\n",
       "  Text(32, 0, 'LumX '),\n",
       "  Text(33, 0, 'Onix '),\n",
       "  Text(34, 0, 'IMPEX '),\n",
       "  Text(35, 0, 'BPL '),\n",
       "  Text(36, 0, 'CloudWalker'),\n",
       "  Text(37, 0, 'MarQ by Flipkart'),\n",
       "  Text(38, 0, 'Oxygen '),\n",
       "  Text(39, 0, 'Power Guard'),\n",
       "  Text(40, 0, 'Akai '),\n",
       "  Text(41, 0, 'VG '),\n",
       "  Text(42, 0, 'Compaq '),\n",
       "  Text(43, 0, 'HUIDI '),\n",
       "  Text(44, 0, 'Intex '),\n",
       "  Text(45, 0, 'DETEL '),\n",
       "  Text(46, 0, 'JVC'),\n",
       "  Text(47, 0, 'G-TEN '),\n",
       "  Text(48, 0, 'Sanyo '),\n",
       "  Text(49, 0, 'Samsung'),\n",
       "  Text(50, 0, 'Dektron'),\n",
       "  Text(51, 0, 'Sharp '),\n",
       "  Text(52, 0, 'KRISONS'),\n",
       "  Text(53, 0, 'Weston '),\n",
       "  Text(54, 0, 'AISEN  '),\n",
       "  Text(55, 0, 'MURPHY ')])"
      ]
     },
     "execution_count": 22,
     "metadata": {},
     "output_type": "execute_result"
    },
    {
     "data": {
      "image/png": "[encoded data removed]",
      "text/plain": [
       "<Figure size 640x480 with 1 Axes>"
      ]
     },
     "metadata": {},
     "output_type": "display_data"
    }
   ],
   "source": [
    "sns.countplot(data=TV,x=\"Brand\")\n",
    "plt.xticks(rotation=90)"
   ]
  },
  {
   "cell_type": "markdown",
   "id": "21cb4112",
   "metadata": {},
   "source": [
    " Demand for different types of televisions and Number of Players in the market"
   ]
  },
  {
   "cell_type": "markdown",
   "id": "004d8137",
   "metadata": {},
   "source": [
    "Which are the top 5 brands for television?"
   ]
  },
  {
   "cell_type": "code",
   "execution_count": 23,
   "id": "e7bc06d0",
   "metadata": {},
   "outputs": [
    {
     "data": {
      "text/html": [
       "<div>\n",
       "<style scoped>\n",
       "    .dataframe tbody tr th:only-of-type {\n",
       "        vertical-align: middle;\n",
       "    }\n",
       "\n",
       "    .dataframe tbody tr th {\n",
       "        vertical-align: top;\n",
       "    }\n",
       "\n",
       "    .dataframe thead th {\n",
       "        text-align: right;\n",
       "    }\n",
       "</style>\n",
       "<table border=\"1\" class=\"dataframe\">\n",
       "  <thead>\n",
       "    <tr style=\"text-align: right;\">\n",
       "      <th></th>\n",
       "      <th>index</th>\n",
       "      <th>Brand</th>\n",
       "      <th>Resolution</th>\n",
       "      <th>Size</th>\n",
       "      <th>Selling Price</th>\n",
       "      <th>Original Price</th>\n",
       "      <th>Operating System</th>\n",
       "      <th>Rating</th>\n",
       "    </tr>\n",
       "  </thead>\n",
       "  <tbody>\n",
       "    <tr>\n",
       "      <th>164</th>\n",
       "      <td>165</td>\n",
       "      <td>LG</td>\n",
       "      <td>Ultra HD LED</td>\n",
       "      <td>65</td>\n",
       "      <td>129999</td>\n",
       "      <td>229900</td>\n",
       "      <td>WebOS</td>\n",
       "      <td>5.0</td>\n",
       "    </tr>\n",
       "    <tr>\n",
       "      <th>211</th>\n",
       "      <td>212</td>\n",
       "      <td>SAMSUNG</td>\n",
       "      <td>QLED Ultra HD</td>\n",
       "      <td>65</td>\n",
       "      <td>224999</td>\n",
       "      <td>279900</td>\n",
       "      <td>Tizen</td>\n",
       "      <td>5.0</td>\n",
       "    </tr>\n",
       "    <tr>\n",
       "      <th>224</th>\n",
       "      <td>226</td>\n",
       "      <td>Haier</td>\n",
       "      <td>Full HD LED</td>\n",
       "      <td>42</td>\n",
       "      <td>28240</td>\n",
       "      <td>43990</td>\n",
       "      <td>Android</td>\n",
       "      <td>5.0</td>\n",
       "    </tr>\n",
       "    <tr>\n",
       "      <th>226</th>\n",
       "      <td>228</td>\n",
       "      <td>SONY</td>\n",
       "      <td>Ultra HD LED</td>\n",
       "      <td>65</td>\n",
       "      <td>469999</td>\n",
       "      <td>529900</td>\n",
       "      <td>Android</td>\n",
       "      <td>5.0</td>\n",
       "    </tr>\n",
       "    <tr>\n",
       "      <th>243</th>\n",
       "      <td>245</td>\n",
       "      <td>LG</td>\n",
       "      <td>Ultra HD LED</td>\n",
       "      <td>65</td>\n",
       "      <td>224999</td>\n",
       "      <td>379990</td>\n",
       "      <td>WebOS</td>\n",
       "      <td>5.0</td>\n",
       "    </tr>\n",
       "    <tr>\n",
       "      <th>325</th>\n",
       "      <td>327</td>\n",
       "      <td>LG</td>\n",
       "      <td>Ultra HD LED</td>\n",
       "      <td>65</td>\n",
       "      <td>149999</td>\n",
       "      <td>219990</td>\n",
       "      <td>WebOS</td>\n",
       "      <td>5.0</td>\n",
       "    </tr>\n",
       "    <tr>\n",
       "      <th>328</th>\n",
       "      <td>330</td>\n",
       "      <td>SAMSUNG</td>\n",
       "      <td>QLED Ultra HD</td>\n",
       "      <td>55</td>\n",
       "      <td>274900</td>\n",
       "      <td>274900</td>\n",
       "      <td>Tizen</td>\n",
       "      <td>5.0</td>\n",
       "    </tr>\n",
       "    <tr>\n",
       "      <th>342</th>\n",
       "      <td>344</td>\n",
       "      <td>LG</td>\n",
       "      <td>Ultra HD LED</td>\n",
       "      <td>65</td>\n",
       "      <td>109999</td>\n",
       "      <td>209990</td>\n",
       "      <td>WebOS</td>\n",
       "      <td>5.0</td>\n",
       "    </tr>\n",
       "    <tr>\n",
       "      <th>357</th>\n",
       "      <td>359</td>\n",
       "      <td>SAMSUNG</td>\n",
       "      <td>Ultra HD LED</td>\n",
       "      <td>55</td>\n",
       "      <td>154900</td>\n",
       "      <td>154900</td>\n",
       "      <td>Tizen</td>\n",
       "      <td>5.0</td>\n",
       "    </tr>\n",
       "    <tr>\n",
       "      <th>380</th>\n",
       "      <td>385</td>\n",
       "      <td>Croma</td>\n",
       "      <td>Ultra HD LED</td>\n",
       "      <td>43</td>\n",
       "      <td>35990</td>\n",
       "      <td>50000</td>\n",
       "      <td>FireTV OS</td>\n",
       "      <td>5.0</td>\n",
       "    </tr>\n",
       "  </tbody>\n",
       "</table>\n",
       "</div>"
      ],
      "text/plain": [
       "     index    Brand     Resolution  Size   Selling Price  Original Price  \\\n",
       "164    165      LG    Ultra HD LED     65         129999          229900   \n",
       "211    212  SAMSUNG  QLED Ultra HD     65         224999          279900   \n",
       "224    226   Haier     Full HD LED     42          28240           43990   \n",
       "226    228    SONY    Ultra HD LED     65         469999          529900   \n",
       "243    245      LG    Ultra HD LED     65         224999          379990   \n",
       "325    327      LG    Ultra HD LED     65         149999          219990   \n",
       "328    330  SAMSUNG  QLED Ultra HD     55         274900          274900   \n",
       "342    344      LG    Ultra HD LED     65         109999          209990   \n",
       "357    359  SAMSUNG   Ultra HD LED     55         154900          154900   \n",
       "380    385   Croma    Ultra HD LED     43          35990           50000   \n",
       "\n",
       "    Operating System  Rating  \n",
       "164            WebOS     5.0  \n",
       "211            Tizen     5.0  \n",
       "224          Android     5.0  \n",
       "226          Android     5.0  \n",
       "243            WebOS     5.0  \n",
       "325            WebOS     5.0  \n",
       "328            Tizen     5.0  \n",
       "342            WebOS     5.0  \n",
       "357            Tizen     5.0  \n",
       "380        FireTV OS     5.0  "
      ]
     },
     "execution_count": 23,
     "metadata": {},
     "output_type": "execute_result"
    }
   ],
   "source": [
    "TV[TV['Rating']==5].head(10)"
   ]
  },
  {
   "cell_type": "code",
   "execution_count": 24,
   "id": "5ceb1b5c",
   "metadata": {},
   "outputs": [
    {
     "data": {
      "text/html": [
       "<div>\n",
       "<style scoped>\n",
       "    .dataframe tbody tr th:only-of-type {\n",
       "        vertical-align: middle;\n",
       "    }\n",
       "\n",
       "    .dataframe tbody tr th {\n",
       "        vertical-align: top;\n",
       "    }\n",
       "\n",
       "    .dataframe thead th {\n",
       "        text-align: right;\n",
       "    }\n",
       "</style>\n",
       "<table border=\"1\" class=\"dataframe\">\n",
       "  <thead>\n",
       "    <tr style=\"text-align: right;\">\n",
       "      <th></th>\n",
       "      <th>index</th>\n",
       "      <th>Brand</th>\n",
       "      <th>Resolution</th>\n",
       "      <th>Size</th>\n",
       "      <th>Selling Price</th>\n",
       "      <th>Original Price</th>\n",
       "      <th>Operating System</th>\n",
       "      <th>Rating</th>\n",
       "    </tr>\n",
       "  </thead>\n",
       "  <tbody>\n",
       "    <tr>\n",
       "      <th>0</th>\n",
       "      <td>0</td>\n",
       "      <td>TOSHIBA</td>\n",
       "      <td>Ultra HD LED</td>\n",
       "      <td>55</td>\n",
       "      <td>37999</td>\n",
       "      <td>54990</td>\n",
       "      <td>VIDAA</td>\n",
       "      <td>4.3</td>\n",
       "    </tr>\n",
       "    <tr>\n",
       "      <th>1</th>\n",
       "      <td>1</td>\n",
       "      <td>TCL</td>\n",
       "      <td>QLED Ultra HD</td>\n",
       "      <td>55</td>\n",
       "      <td>52999</td>\n",
       "      <td>129990</td>\n",
       "      <td>Android</td>\n",
       "      <td>4.4</td>\n",
       "    </tr>\n",
       "    <tr>\n",
       "      <th>2</th>\n",
       "      <td>2</td>\n",
       "      <td>realme</td>\n",
       "      <td>HD LED</td>\n",
       "      <td>32</td>\n",
       "      <td>13999</td>\n",
       "      <td>17999</td>\n",
       "      <td>Android</td>\n",
       "      <td>4.3</td>\n",
       "    </tr>\n",
       "    <tr>\n",
       "      <th>3</th>\n",
       "      <td>3</td>\n",
       "      <td>Mi</td>\n",
       "      <td>HD LED</td>\n",
       "      <td>32</td>\n",
       "      <td>14999</td>\n",
       "      <td>19999</td>\n",
       "      <td>Android</td>\n",
       "      <td>4.4</td>\n",
       "    </tr>\n",
       "    <tr>\n",
       "      <th>4</th>\n",
       "      <td>4</td>\n",
       "      <td>realme</td>\n",
       "      <td>HD LED</td>\n",
       "      <td>32</td>\n",
       "      <td>12999</td>\n",
       "      <td>21999</td>\n",
       "      <td>Android</td>\n",
       "      <td>4.3</td>\n",
       "    </tr>\n",
       "  </tbody>\n",
       "</table>\n",
       "</div>"
      ],
      "text/plain": [
       "   index    Brand     Resolution  Size   Selling Price  Original Price  \\\n",
       "0      0  TOSHIBA   Ultra HD LED     55          37999           54990   \n",
       "1      1     TCL   QLED Ultra HD     55          52999          129990   \n",
       "2      2  realme          HD LED     32          13999           17999   \n",
       "3      3      Mi          HD LED     32          14999           19999   \n",
       "4      4  realme          HD LED     32          12999           21999   \n",
       "\n",
       "  Operating System  Rating  \n",
       "0            VIDAA     4.3  \n",
       "1          Android     4.4  \n",
       "2          Android     4.3  \n",
       "3          Android     4.4  \n",
       "4          Android     4.3  "
      ]
     },
     "execution_count": 24,
     "metadata": {},
     "output_type": "execute_result"
    }
   ],
   "source": [
    "TV.head()"
   ]
  },
  {
   "cell_type": "code",
   "execution_count": 25,
   "id": "7b9d8153",
   "metadata": {},
   "outputs": [],
   "source": [
    "Oprt=TV.groupby('Operating System')"
   ]
  },
  {
   "cell_type": "code",
   "execution_count": 26,
   "id": "5df42e47",
   "metadata": {},
   "outputs": [
    {
     "data": {
      "text/plain": [
       "Operating System  Resolution   \n",
       "Android           Ultra HD LED     198\n",
       "                  HD LED           136\n",
       "                  Full HD LED       99\n",
       "                  QLED Ultra HD     23\n",
       "FireTV OS         HD LED             2\n",
       "                  Ultra HD LED       2\n",
       "                  Full HD LED        1\n",
       "HomeOS            HD LED            16\n",
       "                  Full HD LED        8\n",
       "                  Ultra HD LED       3\n",
       "Linux             Ultra HD LED      49\n",
       "                  Full HD LED       36\n",
       "                  HD LED            36\n",
       "                  QLED Ultra HD      1\n",
       "Tizen             Ultra HD LED      54\n",
       "                  Full HD LED       37\n",
       "                  QLED Ultra HD     36\n",
       "                  HD LED            16\n",
       "                  HD Plasma          2\n",
       "VIDAA             Ultra HD LED       8\n",
       "                  Full HD LED        3\n",
       "                  HD LED             2\n",
       "WebOS             Ultra HD LED      76\n",
       "                  Full HD LED       21\n",
       "                  HD LED             5\n",
       "                  HD Plasma          1\n",
       "Name: Resolution, dtype: int64"
      ]
     },
     "execution_count": 26,
     "metadata": {},
     "output_type": "execute_result"
    }
   ],
   "source": [
    "Oprt['Resolution'].value_counts()"
   ]
  },
  {
   "cell_type": "code",
   "execution_count": 27,
   "id": "f9aed6e9",
   "metadata": {},
   "outputs": [
    {
     "data": {
      "text/html": [
       "<div>\n",
       "<style scoped>\n",
       "    .dataframe tbody tr th:only-of-type {\n",
       "        vertical-align: middle;\n",
       "    }\n",
       "\n",
       "    .dataframe tbody tr th {\n",
       "        vertical-align: top;\n",
       "    }\n",
       "\n",
       "    .dataframe thead th {\n",
       "        text-align: right;\n",
       "    }\n",
       "</style>\n",
       "<table border=\"1\" class=\"dataframe\">\n",
       "  <thead>\n",
       "    <tr style=\"text-align: right;\">\n",
       "      <th></th>\n",
       "      <th>index</th>\n",
       "      <th>Brand</th>\n",
       "      <th>Resolution</th>\n",
       "      <th>Size</th>\n",
       "      <th>Selling Price</th>\n",
       "      <th>Original Price</th>\n",
       "      <th>Operating System</th>\n",
       "      <th>Rating</th>\n",
       "    </tr>\n",
       "  </thead>\n",
       "  <tbody>\n",
       "    <tr>\n",
       "      <th>226</th>\n",
       "      <td>228</td>\n",
       "      <td>SONY</td>\n",
       "      <td>Ultra HD LED</td>\n",
       "      <td>65</td>\n",
       "      <td>469999</td>\n",
       "      <td>529900</td>\n",
       "      <td>Android</td>\n",
       "      <td>5.0</td>\n",
       "    </tr>\n",
       "    <tr>\n",
       "      <th>329</th>\n",
       "      <td>331</td>\n",
       "      <td>LG</td>\n",
       "      <td>Ultra HD LED</td>\n",
       "      <td>55</td>\n",
       "      <td>324990</td>\n",
       "      <td>324990</td>\n",
       "      <td>WebOS</td>\n",
       "      <td>4.6</td>\n",
       "    </tr>\n",
       "    <tr>\n",
       "      <th>251</th>\n",
       "      <td>253</td>\n",
       "      <td>SAMSUNG</td>\n",
       "      <td>Ultra HD LED</td>\n",
       "      <td>65</td>\n",
       "      <td>294900</td>\n",
       "      <td>294900</td>\n",
       "      <td>Tizen</td>\n",
       "      <td>4.7</td>\n",
       "    </tr>\n",
       "    <tr>\n",
       "      <th>328</th>\n",
       "      <td>330</td>\n",
       "      <td>SAMSUNG</td>\n",
       "      <td>QLED Ultra HD</td>\n",
       "      <td>55</td>\n",
       "      <td>274900</td>\n",
       "      <td>274900</td>\n",
       "      <td>Tizen</td>\n",
       "      <td>5.0</td>\n",
       "    </tr>\n",
       "    <tr>\n",
       "      <th>661</th>\n",
       "      <td>681</td>\n",
       "      <td>SAMSUNG</td>\n",
       "      <td>Full HD LED</td>\n",
       "      <td>55</td>\n",
       "      <td>267000</td>\n",
       "      <td>267000</td>\n",
       "      <td>Tizen</td>\n",
       "      <td>4.2</td>\n",
       "    </tr>\n",
       "    <tr>\n",
       "      <th>...</th>\n",
       "      <td>...</td>\n",
       "      <td>...</td>\n",
       "      <td>...</td>\n",
       "      <td>...</td>\n",
       "      <td>...</td>\n",
       "      <td>...</td>\n",
       "      <td>...</td>\n",
       "      <td>...</td>\n",
       "    </tr>\n",
       "    <tr>\n",
       "      <th>260</th>\n",
       "      <td>262</td>\n",
       "      <td>SAMSUNG</td>\n",
       "      <td>QLED Ultra HD</td>\n",
       "      <td>49</td>\n",
       "      <td>74990</td>\n",
       "      <td>129900</td>\n",
       "      <td>Tizen</td>\n",
       "      <td>4.7</td>\n",
       "    </tr>\n",
       "    <tr>\n",
       "      <th>300</th>\n",
       "      <td>302</td>\n",
       "      <td>LG</td>\n",
       "      <td>Full HD LED</td>\n",
       "      <td>49</td>\n",
       "      <td>74990</td>\n",
       "      <td>74990</td>\n",
       "      <td>WebOS</td>\n",
       "      <td>4.5</td>\n",
       "    </tr>\n",
       "    <tr>\n",
       "      <th>161</th>\n",
       "      <td>162</td>\n",
       "      <td>SONY</td>\n",
       "      <td>Ultra HD LED</td>\n",
       "      <td>55</td>\n",
       "      <td>73999</td>\n",
       "      <td>99990</td>\n",
       "      <td>Linux</td>\n",
       "      <td>4.5</td>\n",
       "    </tr>\n",
       "    <tr>\n",
       "      <th>135</th>\n",
       "      <td>136</td>\n",
       "      <td>SAMSUNG</td>\n",
       "      <td>QLED Ultra HD</td>\n",
       "      <td>50</td>\n",
       "      <td>73990</td>\n",
       "      <td>119900</td>\n",
       "      <td>Tizen</td>\n",
       "      <td>4.3</td>\n",
       "    </tr>\n",
       "    <tr>\n",
       "      <th>788</th>\n",
       "      <td>823</td>\n",
       "      <td>Micromax</td>\n",
       "      <td>Full HD LED</td>\n",
       "      <td>55</td>\n",
       "      <td>71990</td>\n",
       "      <td>71990</td>\n",
       "      <td>Android</td>\n",
       "      <td>4.2</td>\n",
       "    </tr>\n",
       "  </tbody>\n",
       "</table>\n",
       "<p>98 rows × 8 columns</p>\n",
       "</div>"
      ],
      "text/plain": [
       "     index     Brand     Resolution  Size   Selling Price  Original Price  \\\n",
       "226    228     SONY    Ultra HD LED     65         469999          529900   \n",
       "329    331       LG    Ultra HD LED     55         324990          324990   \n",
       "251    253   SAMSUNG   Ultra HD LED     65         294900          294900   \n",
       "328    330   SAMSUNG  QLED Ultra HD     55         274900          274900   \n",
       "661    681   SAMSUNG    Full HD LED     55         267000          267000   \n",
       "..     ...       ...            ...    ...            ...             ...   \n",
       "260    262   SAMSUNG  QLED Ultra HD     49          74990          129900   \n",
       "300    302       LG     Full HD LED     49          74990           74990   \n",
       "161    162     SONY    Ultra HD LED     55          73999           99990   \n",
       "135    136   SAMSUNG  QLED Ultra HD     50          73990          119900   \n",
       "788    823  Micromax    Full HD LED     55          71990           71990   \n",
       "\n",
       "    Operating System  Rating  \n",
       "226          Android     5.0  \n",
       "329            WebOS     4.6  \n",
       "251            Tizen     4.7  \n",
       "328            Tizen     5.0  \n",
       "661            Tizen     4.2  \n",
       "..               ...     ...  \n",
       "260            Tizen     4.7  \n",
       "300            WebOS     4.5  \n",
       "161            Linux     4.5  \n",
       "135            Tizen     4.3  \n",
       "788          Android     4.2  \n",
       "\n",
       "[98 rows x 8 columns]"
      ]
     },
     "execution_count": 27,
     "metadata": {},
     "output_type": "execute_result"
    }
   ],
   "source": [
    "TV[(TV['Rating']>4) & (TV['Selling Price']>70000)].sort_values(by='Selling Price',ascending=False)"
   ]
  },
  {
   "cell_type": "code",
   "execution_count": 28,
   "id": "e0c32c65",
   "metadata": {},
   "outputs": [],
   "source": [
    "brand=TV.groupby('Brand')"
   ]
  },
  {
   "cell_type": "code",
   "execution_count": 29,
   "id": "e4020987",
   "metadata": {},
   "outputs": [
    {
     "data": {
      "text/plain": [
       "Brand\n",
       "Sharp               127990.0\n",
       "Samsung             103995.0\n",
       "LG                   76737.0\n",
       "SAMSUNG              74490.0\n",
       "SONY                 64599.0\n",
       "Akai                 51146.0\n",
       "OnePlus              49999.0\n",
       "Sanyo                45499.0\n",
       "Panasonic            45129.0\n",
       "Weston               40990.0\n",
       "Nokia                39999.0\n",
       "TCL                  39999.0\n",
       "Hisense              39499.0\n",
       "iFFALCON by TCL      36999.0\n",
       "MOTOROLA             35999.0\n",
       "Oxygen               35990.0\n",
       "BPL                  35740.0\n",
       "PHILIPS              35729.0\n",
       "Acer                 34994.5\n",
       "Compaq               32999.0\n",
       "Onix                 32990.0\n",
       "JVC                  32494.5\n",
       "Vu                   30999.0\n",
       "Haier                30994.5\n",
       "Sansui               30490.0\n",
       "TOSHIBA              29999.0\n",
       "Onida                29399.5\n",
       "IMPEX                28690.0\n",
       "Mi                   27999.0\n",
       "Coocaa               25999.0\n",
       "AISEN                25970.0\n",
       "Lloyd                25490.0\n",
       "Intex                23688.0\n",
       "KODAK                22499.0\n",
       "CloudWalker          21999.0\n",
       "Blaupunkt            21999.0\n",
       "Thomson              21749.0\n",
       "Croma                19490.0\n",
       "Infinix              18999.0\n",
       "VG                   18494.5\n",
       "realme               17999.0\n",
       "LumX                 16990.0\n",
       "Micromax             16825.0\n",
       "MURPHY               16799.0\n",
       "MarQ by Flipkart     16249.0\n",
       "T-Series             15999.0\n",
       "Power Guard          15650.0\n",
       "G-TEN                15490.0\n",
       "HUIDI                13999.0\n",
       "Dyanora              13999.0\n",
       "Adsun                13699.0\n",
       "DETEL                11300.0\n",
       "Candes               11299.0\n",
       "RGL                   7740.0\n",
       "Dektron               6999.0\n",
       "KRISONS               5499.0\n",
       "Name: Selling Price, dtype: float64"
      ]
     },
     "execution_count": 29,
     "metadata": {},
     "output_type": "execute_result"
    }
   ],
   "source": [
    "brand['Selling Price'].median().sort_values(ascending=False)"
   ]
  },
  {
   "cell_type": "code",
   "execution_count": 30,
   "id": "7dcc784b",
   "metadata": {},
   "outputs": [
    {
     "data": {
      "text/plain": [
       "(array([ 0,  1,  2,  3,  4,  5,  6,  7,  8,  9, 10, 11, 12, 13, 14, 15, 16,\n",
       "        17, 18, 19, 20, 21, 22, 23, 24, 25, 26, 27, 28, 29, 30, 31, 32, 33,\n",
       "        34, 35, 36, 37, 38, 39, 40, 41, 42, 43, 44, 45, 46, 47, 48, 49, 50,\n",
       "        51, 52, 53, 54, 55]),\n",
       " [Text(0, 0, 'TOSHIBA'),\n",
       "  Text(1, 0, 'TCL '),\n",
       "  Text(2, 0, 'realme '),\n",
       "  Text(3, 0, 'Mi '),\n",
       "  Text(4, 0, 'OnePlus'),\n",
       "  Text(5, 0, 'Hisense'),\n",
       "  Text(6, 0, 'LG '),\n",
       "  Text(7, 0, 'iFFALCON by TCL'),\n",
       "  Text(8, 0, 'Coocaa '),\n",
       "  Text(9, 0, 'SAMSUNG'),\n",
       "  Text(10, 0, 'Infinix'),\n",
       "  Text(11, 0, 'Vu'),\n",
       "  Text(12, 0, 'Nokia '),\n",
       "  Text(13, 0, 'Thomson'),\n",
       "  Text(14, 0, 'SONY '),\n",
       "  Text(15, 0, 'KODAK '),\n",
       "  Text(16, 0, 'MOTOROLA'),\n",
       "  Text(17, 0, 'PHILIPS'),\n",
       "  Text(18, 0, 'Acer'),\n",
       "  Text(19, 0, 'Blaupunkt'),\n",
       "  Text(20, 0, 'Adsun'),\n",
       "  Text(21, 0, 'T-Series'),\n",
       "  Text(22, 0, 'Panasonic'),\n",
       "  Text(23, 0, 'Micromax'),\n",
       "  Text(24, 0, 'Sansui '),\n",
       "  Text(25, 0, 'Croma '),\n",
       "  Text(26, 0, 'Candes '),\n",
       "  Text(27, 0, 'Dyanora'),\n",
       "  Text(28, 0, 'Haier '),\n",
       "  Text(29, 0, 'Onida'),\n",
       "  Text(30, 0, 'RGL '),\n",
       "  Text(31, 0, 'Lloyd '),\n",
       "  Text(32, 0, 'LumX '),\n",
       "  Text(33, 0, 'Onix '),\n",
       "  Text(34, 0, 'IMPEX '),\n",
       "  Text(35, 0, 'BPL '),\n",
       "  Text(36, 0, 'CloudWalker'),\n",
       "  Text(37, 0, 'MarQ by Flipkart'),\n",
       "  Text(38, 0, 'Oxygen '),\n",
       "  Text(39, 0, 'Power Guard'),\n",
       "  Text(40, 0, 'Akai '),\n",
       "  Text(41, 0, 'VG '),\n",
       "  Text(42, 0, 'Compaq '),\n",
       "  Text(43, 0, 'HUIDI '),\n",
       "  Text(44, 0, 'Intex '),\n",
       "  Text(45, 0, 'DETEL '),\n",
       "  Text(46, 0, 'JVC'),\n",
       "  Text(47, 0, 'G-TEN '),\n",
       "  Text(48, 0, 'Sanyo '),\n",
       "  Text(49, 0, 'Samsung'),\n",
       "  Text(50, 0, 'Dektron'),\n",
       "  Text(51, 0, 'Sharp '),\n",
       "  Text(52, 0, 'KRISONS'),\n",
       "  Text(53, 0, 'Weston '),\n",
       "  Text(54, 0, 'AISEN  '),\n",
       "  Text(55, 0, 'MURPHY ')])"
      ]
     },
     "execution_count": 30,
     "metadata": {},
     "output_type": "execute_result"
    },
    {
     "data": {
      "image/png": "[encoded data removed]",
      "text/plain": [
       "<Figure size 640x480 with 1 Axes>"
      ]
     },
     "metadata": {},
     "output_type": "display_data"
    }
   ],
   "source": [
    "sns.barplot(x='Brand',y='Selling Price' ,data=TV)\n",
    "plt.xticks(rotation=90)"
   ]
  },
  {
   "cell_type": "code",
   "execution_count": 32,
   "id": "e5cd52ea",
   "metadata": {},
   "outputs": [
    {
     "data": {
      "text/plain": [
       "Index(['index', 'Brand', 'Resolution', 'Size ', 'Selling Price',\n",
       "       'Original Price', 'Operating System', 'Rating'],\n",
       "      dtype='object')"
      ]
     },
     "execution_count": 32,
     "metadata": {},
     "output_type": "execute_result"
    }
   ],
   "source": [
    "TV.columns"
   ]
  },
  {
   "cell_type": "code",
   "execution_count": 35,
   "id": "ae743e16",
   "metadata": {},
   "outputs": [
    {
     "data": {
      "text/plain": [
       "<Axes: xlabel='Resolution', ylabel='count'>"
      ]
     },
     "execution_count": 35,
     "metadata": {},
     "output_type": "execute_result"
    },
    {
     "data": {
      "image/png": "[encoded data removed]",
      "text/plain": [
       "<Figure size 640x480 with 1 Axes>"
      ]
     },
     "metadata": {},
     "output_type": "display_data"
    }
   ],
   "source": [
    "sns.countplot(x='Resolution',data=TV)"
   ]
  },
  {
   "cell_type": "code",
   "execution_count": 37,
   "id": "34808c5e",
   "metadata": {},
   "outputs": [
    {
     "data": {
      "text/plain": [
       "SAMSUNG      140\n",
       "LG           116\n",
       "SONY          61\n",
       "TCL           41\n",
       "Panasonic     28\n",
       "Name: Brand, dtype: int64"
      ]
     },
     "execution_count": 37,
     "metadata": {},
     "output_type": "execute_result"
    }
   ],
   "source": [
    "top_brands = TV['Brand'].value_counts(ascending=False).head(5)\n",
    "top_brands"
   ]
  },
  {
   "cell_type": "code",
   "execution_count": 38,
   "id": "ab2234fd",
   "metadata": {},
   "outputs": [
    {
     "data": {
      "image/png": "[encoded data removed]",
      "text/plain": [
       "<Figure size 640x480 with 1 Axes>"
      ]
     },
     "metadata": {},
     "output_type": "display_data"
    }
   ],
   "source": [
    "top_brands.plot(kind='bar', color='skyblue')\n",
    "plt.title('Top 5 Television Brands')\n",
    "plt.xlabel('Brand')\n",
    "plt.ylabel('Count')\n",
    "plt.xticks(rotation=45, ha='right')\n",
    "plt.show()"
   ]
  },
  {
   "cell_type": "code",
   "execution_count": null,
   "id": "5bf894b0",
   "metadata": {},
   "outputs": [],
   "source": []
  }
 ],
 "metadata": {
  "kernelspec": {
   "display_name": "Python 3 (ipykernel)",
   "language": "python",
   "name": "python3"
  },
  "language_info": {
   "codemirror_mode": {
    "name": "ipython",
    "version": 3
   },
   "file_extension": ".py",
   "mimetype": "text/x-python",
   "name": "python",
   "nbconvert_exporter": "python",
   "pygments_lexer": "ipython3",
   "version": "3.10.9"
  }
 },
 "nbformat": 4,
 "nbformat_minor": 5
}
